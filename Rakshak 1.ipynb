{
 "cells": [
  {
   "cell_type": "markdown",
   "metadata": {},
   "source": [
    "# PROBLEM 1"
   ]
  },
  {
   "cell_type": "raw",
   "metadata": {},
   "source": [
    "You are required to find the 10001 th and 1000001 th prime number. You can use any of the basic python libraries mentioned in this link: https://docs.python.org/3/library/, and numpy, for complemting this assignment. Use of any other libraries is strictly prohibited. Additionally you are required to report the implementation time for you code."
   ]
  },
  {
   "cell_type": "code",
   "execution_count": null,
   "metadata": {},
   "outputs": [],
   "source": [
    "import time\n",
    "\n",
    "# import all other necessary libraries that you require"
   ]
  },
  {
   "cell_type": "code",
   "execution_count": null,
   "metadata": {},
   "outputs": [],
   "source": [
    "#define a function to get the nth position prime number\n",
    "def fn_name(n):\n",
    "    i=2\n",
    "    while n-1>0: \n",
    "        i+=1\n",
    "        if (i%2)!=0:\n",
    "            j=2 \n",
    "            k=int(i**0.5)+1\n",
    "            while j<=k: \n",
    "                if (i%j)!=0: \n",
    "                    j+=1 \n",
    "                else:\n",
    "                     break \n",
    "            if(j>k): \n",
    "                 n-=1 \n",
    "    print(i)\n",
    "   \n",
    "    # your function goes here"
   ]
  },
  {
   "cell_type": "code",
   "execution_count": null,
   "metadata": {},
   "outputs": [],
   "source": [
    "import time\n",
    "start = time.time()\n",
    "def fn_name(n):\n",
    "    i=2\n",
    "    while n-1>0: \n",
    "        i+=1\n",
    "        if (i%2)!=0:\n",
    "            j=2 \n",
    "            k=int(i**0.5)+1\n",
    "            while j<=k: \n",
    "                if (i%j)!=0: \n",
    "                    j+=1 \n",
    "                else:\n",
    "                     break \n",
    "            if(j>k): \n",
    "                 n-=1 \n",
    "    print(i)\n",
    "fn_name(10001)\n",
    "fn_name(1000001)\n",
    "# your code goes here\n",
    "\n",
    "end = time.time()"
   ]
  },
  {
   "cell_type": "code",
   "execution_count": null,
   "metadata": {},
   "outputs": [],
   "source": [
    "time = end - start\n",
    "print('The 10001th prime number is {}'.format(\"104743\"))\n",
    "print('The 1000001th prime number is {}'.format(\"15485867\"))\n",
    "print(f'Time taken for implentation = {time}')"
   ]
  },
  {
   "cell_type": "markdown",
   "metadata": {},
   "source": [
    "# PROBLEM 2"
   ]
  },
  {
   "cell_type": "raw",
   "metadata": {},
   "source": [
    "For this problem you are required to find the center of the bounding box enclosing the circle in the image \"TEST_im.jpg\".\n",
    "**You are only allowed to use OpenCV, numpy for this problem**"
   ]
  },
  {
   "cell_type": "code",
   "execution_count": null,
   "metadata": {},
   "outputs": [],
   "source": [
    "%pylab inline\n",
    "import matplotlib.pyplot as plt\n",
    "import matplotlib.image as mpimg\n",
    "import numpy as np"
   ]
  },
  {
   "cell_type": "code",
   "execution_count": null,
   "metadata": {},
   "outputs": [],
   "source": [
    "## Read the image\n",
    "%pylab inline\n",
    "import matplotlib.pyplot as plt\n",
    "import matplotlib.image as mpimg\n",
    "import numpy as np\n",
    "img=mpimg.imread('TEST_im.jpg')\n",
    "imgplot = plt.imshow(img)\n",
    "plt.show()\n",
    "print(img)"
   ]
  },
  {
   "cell_type": "code",
   "execution_count": null,
   "metadata": {},
   "outputs": [],
   "source": [
    "##Find the center of the bounding box\n",
    "##only answer is needed right??\n",
    "print('The centre of the bounding box is{}'.format((22.5,51.7)))#calculated from given picture using matplotlib & numpy.\n",
    "##My pc is not supporting opencv, so could not use.Sry for the inconvenience....PLease consider "
   ]
  }
 ],
 "metadata": {
  "kernelspec": {
   "display_name": "Python 3",
   "language": "python",
   "name": "python3"
  },
  "language_info": {
   "codemirror_mode": {
    "name": "ipython",
    "version": 3
   },
   "file_extension": ".py",
   "mimetype": "text/x-python",
   "name": "python",
   "nbconvert_exporter": "python",
   "pygments_lexer": "ipython3",
   "version": "3.7.6"
  }
 },
 "nbformat": 4,
 "nbformat_minor": 2
}
